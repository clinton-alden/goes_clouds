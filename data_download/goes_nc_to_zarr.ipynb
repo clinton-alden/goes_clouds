{
 "cells": [
  {
   "cell_type": "markdown",
   "metadata": {},
   "source": [
    "## Combine GOES netCDFs into one .zarr file\n",
    "\n",
    "This could also be done using the `goes-ortho.build_zarr()` function but that is currently not working.\n",
    "\n",
    "Clinton Alden\n",
    "27 March 2025"
   ]
  },
  {
   "cell_type": "code",
   "execution_count": 1,
   "metadata": {},
   "outputs": [],
   "source": [
    "import xarray as xr\n",
    "import os\n",
    "import dask\n",
    "from dask.distributed import Client"
   ]
  },
  {
   "cell_type": "code",
   "execution_count": 2,
   "metadata": {},
   "outputs": [],
   "source": [
    "def goes_nc_to_zarr(in_dir, out_dir, out_name):    \n",
    "# Directory containing the NetCDF files\n",
    "    nc_dir = in_dir\n",
    "    \n",
    "    # Recursively list all NetCDF files in the directory and subdirectories\n",
    "    nc_files = []\n",
    "    for root, dirs, files in os.walk(nc_dir):\n",
    "        for file in files:\n",
    "            # print(file)\n",
    "            if file.endswith('.nc'):\n",
    "                nc_files.append(os.path.join(root, file))\n",
    "\n",
    "    # Open multiple NetCDF files as a list of datasets\n",
    "    datasets = [xr.open_dataset(f) for f in nc_files]\n",
    "\n",
    "    # Concatenate datasets along the 't' coordinate\n",
    "    combined_ds = xr.concat(datasets, dim='t')\n",
    "\n",
    "    # Save the combined dataset to a Zarr file\n",
    "    out_name = out_name\n",
    "    combined_ds.to_zarr(out_dir+out_name)"
   ]
  },
  {
   "cell_type": "code",
   "execution_count": 3,
   "metadata": {},
   "outputs": [
    {
     "name": "stdout",
     "output_type": "stream",
     "text": [
      "Starting Feb 1\n"
     ]
    },
    {
     "name": "stderr",
     "output_type": "stream",
     "text": [
      "/home/cdalden/miniforge3/envs/goesenv/lib/python3.13/site-packages/zarr/api/asynchronous.py:203: UserWarning: Consolidated metadata is currently not part in the Zarr format 3 specification. It may not be supported by other zarr implementations and may change in the future.\n",
      "  warnings.warn(\n"
     ]
    },
    {
     "name": "stdout",
     "output_type": "stream",
     "text": [
      "Finished Feb 1\n",
      "Starting Feb 2\n"
     ]
    },
    {
     "name": "stderr",
     "output_type": "stream",
     "text": [
      "/home/cdalden/miniforge3/envs/goesenv/lib/python3.13/site-packages/zarr/api/asynchronous.py:203: UserWarning: Consolidated metadata is currently not part in the Zarr format 3 specification. It may not be supported by other zarr implementations and may change in the future.\n",
      "  warnings.warn(\n"
     ]
    },
    {
     "name": "stdout",
     "output_type": "stream",
     "text": [
      "Finished Feb 2\n",
      "Starting Feb 3\n"
     ]
    },
    {
     "name": "stderr",
     "output_type": "stream",
     "text": [
      "/home/cdalden/miniforge3/envs/goesenv/lib/python3.13/site-packages/zarr/api/asynchronous.py:203: UserWarning: Consolidated metadata is currently not part in the Zarr format 3 specification. It may not be supported by other zarr implementations and may change in the future.\n",
      "  warnings.warn(\n"
     ]
    },
    {
     "name": "stdout",
     "output_type": "stream",
     "text": [
      "Finished Feb 3\n",
      "Starting Feb 4\n"
     ]
    },
    {
     "name": "stderr",
     "output_type": "stream",
     "text": [
      "/home/cdalden/miniforge3/envs/goesenv/lib/python3.13/site-packages/zarr/api/asynchronous.py:203: UserWarning: Consolidated metadata is currently not part in the Zarr format 3 specification. It may not be supported by other zarr implementations and may change in the future.\n",
      "  warnings.warn(\n"
     ]
    },
    {
     "name": "stdout",
     "output_type": "stream",
     "text": [
      "Finished Feb 4\n",
      "Starting Feb 5\n"
     ]
    },
    {
     "name": "stderr",
     "output_type": "stream",
     "text": [
      "/home/cdalden/miniforge3/envs/goesenv/lib/python3.13/site-packages/zarr/api/asynchronous.py:203: UserWarning: Consolidated metadata is currently not part in the Zarr format 3 specification. It may not be supported by other zarr implementations and may change in the future.\n",
      "  warnings.warn(\n"
     ]
    },
    {
     "name": "stdout",
     "output_type": "stream",
     "text": [
      "Finished Feb 5\n",
      "Starting Feb 6\n"
     ]
    },
    {
     "name": "stderr",
     "output_type": "stream",
     "text": [
      "/home/cdalden/miniforge3/envs/goesenv/lib/python3.13/site-packages/zarr/api/asynchronous.py:203: UserWarning: Consolidated metadata is currently not part in the Zarr format 3 specification. It may not be supported by other zarr implementations and may change in the future.\n",
      "  warnings.warn(\n"
     ]
    },
    {
     "name": "stdout",
     "output_type": "stream",
     "text": [
      "Finished Feb 6\n",
      "Starting Feb 7\n"
     ]
    },
    {
     "name": "stderr",
     "output_type": "stream",
     "text": [
      "/home/cdalden/miniforge3/envs/goesenv/lib/python3.13/site-packages/zarr/api/asynchronous.py:203: UserWarning: Consolidated metadata is currently not part in the Zarr format 3 specification. It may not be supported by other zarr implementations and may change in the future.\n",
      "  warnings.warn(\n"
     ]
    },
    {
     "name": "stdout",
     "output_type": "stream",
     "text": [
      "Finished Feb 7\n",
      "Starting Feb 8\n"
     ]
    },
    {
     "name": "stderr",
     "output_type": "stream",
     "text": [
      "/home/cdalden/miniforge3/envs/goesenv/lib/python3.13/site-packages/zarr/api/asynchronous.py:203: UserWarning: Consolidated metadata is currently not part in the Zarr format 3 specification. It may not be supported by other zarr implementations and may change in the future.\n",
      "  warnings.warn(\n"
     ]
    },
    {
     "name": "stdout",
     "output_type": "stream",
     "text": [
      "Finished Feb 8\n",
      "Starting Feb 9\n"
     ]
    },
    {
     "name": "stderr",
     "output_type": "stream",
     "text": [
      "/home/cdalden/miniforge3/envs/goesenv/lib/python3.13/site-packages/zarr/api/asynchronous.py:203: UserWarning: Consolidated metadata is currently not part in the Zarr format 3 specification. It may not be supported by other zarr implementations and may change in the future.\n",
      "  warnings.warn(\n"
     ]
    },
    {
     "name": "stdout",
     "output_type": "stream",
     "text": [
      "Finished Feb 9\n",
      "Starting Feb 10\n"
     ]
    },
    {
     "name": "stderr",
     "output_type": "stream",
     "text": [
      "/home/cdalden/miniforge3/envs/goesenv/lib/python3.13/site-packages/zarr/api/asynchronous.py:203: UserWarning: Consolidated metadata is currently not part in the Zarr format 3 specification. It may not be supported by other zarr implementations and may change in the future.\n",
      "  warnings.warn(\n"
     ]
    },
    {
     "name": "stdout",
     "output_type": "stream",
     "text": [
      "Finished Feb 10\n"
     ]
    }
   ],
   "source": [
    "for day in range(1,11):\n",
    "    day_of_month = str(day)\n",
    "    if day<10:\n",
    "        out_day_of_month = '0' + day_of_month\n",
    "    else:\n",
    "        out_day_of_month = day_of_month\n",
    "    print(f'Starting Feb {day_of_month}')\n",
    "    in_dir = f'/storage/cdalden/goes/goes16/2023/2/{day_of_month}/'\n",
    "    out_dir = '/storage/cdalden/goes/goes16/2023/'\n",
    "    out_name = f'goes16_C02_colorado_202302{out_day_of_month}.zarr'\n",
    "\n",
    "    goes_nc_to_zarr(in_dir, out_dir, out_name)\n",
    "    print(f'Finished Feb {day_of_month}')"
   ]
  },
  {
   "cell_type": "markdown",
   "metadata": {},
   "source": [
    "## Combine all zarr files for each date into one file"
   ]
  },
  {
   "cell_type": "code",
   "execution_count": 4,
   "metadata": {},
   "outputs": [
    {
     "ename": "ValueError",
     "evalue": "Specified zarr chunks encoding['chunks']=(288,) for variable named 'max_radiance_value_of_valid_pixels' would overlap multiple dask chunks ((288, 288, 288, 288, 288, 288, 288, 288, 287, 288, 288, 288, 288, 288, 288, 288, 288, 288, 286),) on the region (slice(None, None, None),). Writing this array in parallel with dask could lead to corrupted data. Consider either rechunking using `chunk()`, deleting or modifying `encoding['chunks']`, or specify `safe_chunks=False`.",
     "output_type": "error",
     "traceback": [
      "\u001b[31m---------------------------------------------------------------------------\u001b[39m",
      "\u001b[31mValueError\u001b[39m                                Traceback (most recent call last)",
      "\u001b[36mCell\u001b[39m\u001b[36m \u001b[39m\u001b[32mIn[4]\u001b[39m\u001b[32m, line 18\u001b[39m\n\u001b[32m     15\u001b[39m input_dir = \u001b[33m'\u001b[39m\u001b[33m/storage/cdalden/goes/goes16/2023/\u001b[39m\u001b[33m'\u001b[39m\n\u001b[32m     16\u001b[39m output_file = \u001b[33m'\u001b[39m\u001b[33m/storage/cdalden/goes/goes16/2023/goes16_C02_colorado_202306_combined.zarr\u001b[39m\u001b[33m'\u001b[39m\n\u001b[32m---> \u001b[39m\u001b[32m18\u001b[39m \u001b[43mcombine_zarr_files\u001b[49m\u001b[43m(\u001b[49m\u001b[43minput_dir\u001b[49m\u001b[43m,\u001b[49m\u001b[43m \u001b[49m\u001b[43moutput_file\u001b[49m\u001b[43m)\u001b[49m\n",
      "\u001b[36mCell\u001b[39m\u001b[36m \u001b[39m\u001b[32mIn[4]\u001b[39m\u001b[32m, line 12\u001b[39m, in \u001b[36mcombine_zarr_files\u001b[39m\u001b[34m(input_dir, output_file)\u001b[39m\n\u001b[32m      9\u001b[39m combined_ds = xr.concat(datasets, dim=\u001b[33m'\u001b[39m\u001b[33mt\u001b[39m\u001b[33m'\u001b[39m)\n\u001b[32m     11\u001b[39m \u001b[38;5;66;03m# Save the combined dataset to a new Zarr file\u001b[39;00m\n\u001b[32m---> \u001b[39m\u001b[32m12\u001b[39m \u001b[43mcombined_ds\u001b[49m\u001b[43m.\u001b[49m\u001b[43mto_zarr\u001b[49m\u001b[43m(\u001b[49m\u001b[43moutput_file\u001b[49m\u001b[43m,\u001b[49m\u001b[43m \u001b[49m\u001b[43mmode\u001b[49m\u001b[43m=\u001b[49m\u001b[33;43m'\u001b[39;49m\u001b[33;43mw\u001b[39;49m\u001b[33;43m'\u001b[39;49m\u001b[43m)\u001b[49m\n",
      "\u001b[36mFile \u001b[39m\u001b[32m~/miniforge3/envs/goesenv/lib/python3.13/site-packages/xarray/core/dataset.py:2323\u001b[39m, in \u001b[36mDataset.to_zarr\u001b[39m\u001b[34m(self, store, chunk_store, mode, synchronizer, group, encoding, compute, consolidated, append_dim, region, safe_chunks, storage_options, zarr_version, zarr_format, write_empty_chunks, chunkmanager_store_kwargs)\u001b[39m\n\u001b[32m   2155\u001b[39m \u001b[38;5;250m\u001b[39m\u001b[33;03m\"\"\"Write dataset contents to a zarr group.\u001b[39;00m\n\u001b[32m   2156\u001b[39m \n\u001b[32m   2157\u001b[39m \u001b[33;03mZarr chunks are determined in the following way:\u001b[39;00m\n\u001b[32m   (...)\u001b[39m\u001b[32m   2319\u001b[39m \u001b[33;03m    The I/O user guide, with more details and examples.\u001b[39;00m\n\u001b[32m   2320\u001b[39m \u001b[33;03m\"\"\"\u001b[39;00m\n\u001b[32m   2321\u001b[39m \u001b[38;5;28;01mfrom\u001b[39;00m\u001b[38;5;250m \u001b[39m\u001b[34;01mxarray\u001b[39;00m\u001b[34;01m.\u001b[39;00m\u001b[34;01mbackends\u001b[39;00m\u001b[34;01m.\u001b[39;00m\u001b[34;01mapi\u001b[39;00m\u001b[38;5;250m \u001b[39m\u001b[38;5;28;01mimport\u001b[39;00m to_zarr\n\u001b[32m-> \u001b[39m\u001b[32m2323\u001b[39m \u001b[38;5;28;01mreturn\u001b[39;00m \u001b[43mto_zarr\u001b[49m\u001b[43m(\u001b[49m\u001b[43m  \u001b[49m\u001b[38;5;66;43;03m# type: ignore[call-overload,misc]\u001b[39;49;00m\n\u001b[32m   2324\u001b[39m \u001b[43m    \u001b[49m\u001b[38;5;28;43mself\u001b[39;49m\u001b[43m,\u001b[49m\n\u001b[32m   2325\u001b[39m \u001b[43m    \u001b[49m\u001b[43mstore\u001b[49m\u001b[43m=\u001b[49m\u001b[43mstore\u001b[49m\u001b[43m,\u001b[49m\n\u001b[32m   2326\u001b[39m \u001b[43m    \u001b[49m\u001b[43mchunk_store\u001b[49m\u001b[43m=\u001b[49m\u001b[43mchunk_store\u001b[49m\u001b[43m,\u001b[49m\n\u001b[32m   2327\u001b[39m \u001b[43m    \u001b[49m\u001b[43mstorage_options\u001b[49m\u001b[43m=\u001b[49m\u001b[43mstorage_options\u001b[49m\u001b[43m,\u001b[49m\n\u001b[32m   2328\u001b[39m \u001b[43m    \u001b[49m\u001b[43mmode\u001b[49m\u001b[43m=\u001b[49m\u001b[43mmode\u001b[49m\u001b[43m,\u001b[49m\n\u001b[32m   2329\u001b[39m \u001b[43m    \u001b[49m\u001b[43msynchronizer\u001b[49m\u001b[43m=\u001b[49m\u001b[43msynchronizer\u001b[49m\u001b[43m,\u001b[49m\n\u001b[32m   2330\u001b[39m \u001b[43m    \u001b[49m\u001b[43mgroup\u001b[49m\u001b[43m=\u001b[49m\u001b[43mgroup\u001b[49m\u001b[43m,\u001b[49m\n\u001b[32m   2331\u001b[39m \u001b[43m    \u001b[49m\u001b[43mencoding\u001b[49m\u001b[43m=\u001b[49m\u001b[43mencoding\u001b[49m\u001b[43m,\u001b[49m\n\u001b[32m   2332\u001b[39m \u001b[43m    \u001b[49m\u001b[43mcompute\u001b[49m\u001b[43m=\u001b[49m\u001b[43mcompute\u001b[49m\u001b[43m,\u001b[49m\n\u001b[32m   2333\u001b[39m \u001b[43m    \u001b[49m\u001b[43mconsolidated\u001b[49m\u001b[43m=\u001b[49m\u001b[43mconsolidated\u001b[49m\u001b[43m,\u001b[49m\n\u001b[32m   2334\u001b[39m \u001b[43m    \u001b[49m\u001b[43mappend_dim\u001b[49m\u001b[43m=\u001b[49m\u001b[43mappend_dim\u001b[49m\u001b[43m,\u001b[49m\n\u001b[32m   2335\u001b[39m \u001b[43m    \u001b[49m\u001b[43mregion\u001b[49m\u001b[43m=\u001b[49m\u001b[43mregion\u001b[49m\u001b[43m,\u001b[49m\n\u001b[32m   2336\u001b[39m \u001b[43m    \u001b[49m\u001b[43msafe_chunks\u001b[49m\u001b[43m=\u001b[49m\u001b[43msafe_chunks\u001b[49m\u001b[43m,\u001b[49m\n\u001b[32m   2337\u001b[39m \u001b[43m    \u001b[49m\u001b[43mzarr_version\u001b[49m\u001b[43m=\u001b[49m\u001b[43mzarr_version\u001b[49m\u001b[43m,\u001b[49m\n\u001b[32m   2338\u001b[39m \u001b[43m    \u001b[49m\u001b[43mzarr_format\u001b[49m\u001b[43m=\u001b[49m\u001b[43mzarr_format\u001b[49m\u001b[43m,\u001b[49m\n\u001b[32m   2339\u001b[39m \u001b[43m    \u001b[49m\u001b[43mwrite_empty_chunks\u001b[49m\u001b[43m=\u001b[49m\u001b[43mwrite_empty_chunks\u001b[49m\u001b[43m,\u001b[49m\n\u001b[32m   2340\u001b[39m \u001b[43m    \u001b[49m\u001b[43mchunkmanager_store_kwargs\u001b[49m\u001b[43m=\u001b[49m\u001b[43mchunkmanager_store_kwargs\u001b[49m\u001b[43m,\u001b[49m\n\u001b[32m   2341\u001b[39m \u001b[43m\u001b[49m\u001b[43m)\u001b[49m\n",
      "\u001b[36mFile \u001b[39m\u001b[32m~/miniforge3/envs/goesenv/lib/python3.13/site-packages/xarray/backends/api.py:2239\u001b[39m, in \u001b[36mto_zarr\u001b[39m\u001b[34m(dataset, store, chunk_store, mode, synchronizer, group, encoding, compute, consolidated, append_dim, region, safe_chunks, storage_options, zarr_version, zarr_format, write_empty_chunks, chunkmanager_store_kwargs)\u001b[39m\n\u001b[32m   2237\u001b[39m writer = ArrayWriter()\n\u001b[32m   2238\u001b[39m \u001b[38;5;66;03m# TODO: figure out how to properly handle unlimited_dims\u001b[39;00m\n\u001b[32m-> \u001b[39m\u001b[32m2239\u001b[39m \u001b[43mdump_to_store\u001b[49m\u001b[43m(\u001b[49m\u001b[43mdataset\u001b[49m\u001b[43m,\u001b[49m\u001b[43m \u001b[49m\u001b[43mzstore\u001b[49m\u001b[43m,\u001b[49m\u001b[43m \u001b[49m\u001b[43mwriter\u001b[49m\u001b[43m,\u001b[49m\u001b[43m \u001b[49m\u001b[43mencoding\u001b[49m\u001b[43m=\u001b[49m\u001b[43mencoding\u001b[49m\u001b[43m)\u001b[49m\n\u001b[32m   2240\u001b[39m writes = writer.sync(\n\u001b[32m   2241\u001b[39m     compute=compute, chunkmanager_store_kwargs=chunkmanager_store_kwargs\n\u001b[32m   2242\u001b[39m )\n\u001b[32m   2244\u001b[39m \u001b[38;5;28;01mif\u001b[39;00m compute:\n",
      "\u001b[36mFile \u001b[39m\u001b[32m~/miniforge3/envs/goesenv/lib/python3.13/site-packages/xarray/backends/api.py:1975\u001b[39m, in \u001b[36mdump_to_store\u001b[39m\u001b[34m(dataset, store, writer, encoder, encoding, unlimited_dims)\u001b[39m\n\u001b[32m   1972\u001b[39m \u001b[38;5;28;01mif\u001b[39;00m encoder:\n\u001b[32m   1973\u001b[39m     variables, attrs = encoder(variables, attrs)\n\u001b[32m-> \u001b[39m\u001b[32m1975\u001b[39m \u001b[43mstore\u001b[49m\u001b[43m.\u001b[49m\u001b[43mstore\u001b[49m\u001b[43m(\u001b[49m\u001b[43mvariables\u001b[49m\u001b[43m,\u001b[49m\u001b[43m \u001b[49m\u001b[43mattrs\u001b[49m\u001b[43m,\u001b[49m\u001b[43m \u001b[49m\u001b[43mcheck_encoding\u001b[49m\u001b[43m,\u001b[49m\u001b[43m \u001b[49m\u001b[43mwriter\u001b[49m\u001b[43m,\u001b[49m\u001b[43m \u001b[49m\u001b[43munlimited_dims\u001b[49m\u001b[43m=\u001b[49m\u001b[43munlimited_dims\u001b[49m\u001b[43m)\u001b[49m\n",
      "\u001b[36mFile \u001b[39m\u001b[32m~/miniforge3/envs/goesenv/lib/python3.13/site-packages/xarray/backends/zarr.py:1043\u001b[39m, in \u001b[36mZarrStore.store\u001b[39m\u001b[34m(self, variables, attributes, check_encoding_set, writer, unlimited_dims)\u001b[39m\n\u001b[32m   1040\u001b[39m \u001b[38;5;28;01melse\u001b[39;00m:\n\u001b[32m   1041\u001b[39m     variables_to_set = variables_encoded\n\u001b[32m-> \u001b[39m\u001b[32m1043\u001b[39m \u001b[38;5;28;43mself\u001b[39;49m\u001b[43m.\u001b[49m\u001b[43mset_variables\u001b[49m\u001b[43m(\u001b[49m\n\u001b[32m   1044\u001b[39m \u001b[43m    \u001b[49m\u001b[43mvariables_to_set\u001b[49m\u001b[43m,\u001b[49m\u001b[43m \u001b[49m\u001b[43mcheck_encoding_set\u001b[49m\u001b[43m,\u001b[49m\u001b[43m \u001b[49m\u001b[43mwriter\u001b[49m\u001b[43m,\u001b[49m\u001b[43m \u001b[49m\u001b[43munlimited_dims\u001b[49m\u001b[43m=\u001b[49m\u001b[43munlimited_dims\u001b[49m\n\u001b[32m   1045\u001b[39m \u001b[43m\u001b[49m\u001b[43m)\u001b[49m\n\u001b[32m   1046\u001b[39m \u001b[38;5;28;01mif\u001b[39;00m \u001b[38;5;28mself\u001b[39m._consolidate_on_close:\n\u001b[32m   1047\u001b[39m     kwargs = {}\n",
      "\u001b[36mFile \u001b[39m\u001b[32m~/miniforge3/envs/goesenv/lib/python3.13/site-packages/xarray/backends/zarr.py:1193\u001b[39m, in \u001b[36mZarrStore.set_variables\u001b[39m\u001b[34m(self, variables, check_encoding_set, writer, unlimited_dims)\u001b[39m\n\u001b[32m   1185\u001b[39m region = \u001b[38;5;28mtuple\u001b[39m(write_region[dim] \u001b[38;5;28;01mfor\u001b[39;00m dim \u001b[38;5;129;01min\u001b[39;00m dims)\n\u001b[32m   1187\u001b[39m \u001b[38;5;66;03m# We need to do this for both new and existing variables to ensure we're not\u001b[39;00m\n\u001b[32m   1188\u001b[39m \u001b[38;5;66;03m# writing to a partial chunk, even though we don't use the `encoding` value\u001b[39;00m\n\u001b[32m   1189\u001b[39m \u001b[38;5;66;03m# when writing to an existing variable. See\u001b[39;00m\n\u001b[32m   1190\u001b[39m \u001b[38;5;66;03m# https://github.com/pydata/xarray/issues/8371 for details.\u001b[39;00m\n\u001b[32m   1191\u001b[39m \u001b[38;5;66;03m# Note: Ideally there should be two functions, one for validating the chunks and\u001b[39;00m\n\u001b[32m   1192\u001b[39m \u001b[38;5;66;03m# another one for extracting the encoding.\u001b[39;00m\n\u001b[32m-> \u001b[39m\u001b[32m1193\u001b[39m encoding = \u001b[43mextract_zarr_variable_encoding\u001b[49m\u001b[43m(\u001b[49m\n\u001b[32m   1194\u001b[39m \u001b[43m    \u001b[49m\u001b[43mv\u001b[49m\u001b[43m,\u001b[49m\n\u001b[32m   1195\u001b[39m \u001b[43m    \u001b[49m\u001b[43mraise_on_invalid\u001b[49m\u001b[43m=\u001b[49m\u001b[43mvn\u001b[49m\u001b[43m \u001b[49m\u001b[38;5;129;43;01min\u001b[39;49;00m\u001b[43m \u001b[49m\u001b[43mcheck_encoding_set\u001b[49m\u001b[43m,\u001b[49m\n\u001b[32m   1196\u001b[39m \u001b[43m    \u001b[49m\u001b[43mname\u001b[49m\u001b[43m=\u001b[49m\u001b[43mvn\u001b[49m\u001b[43m,\u001b[49m\n\u001b[32m   1197\u001b[39m \u001b[43m    \u001b[49m\u001b[43msafe_chunks\u001b[49m\u001b[43m=\u001b[49m\u001b[38;5;28;43mself\u001b[39;49m\u001b[43m.\u001b[49m\u001b[43m_safe_chunks\u001b[49m\u001b[43m,\u001b[49m\n\u001b[32m   1198\u001b[39m \u001b[43m    \u001b[49m\u001b[43mregion\u001b[49m\u001b[43m=\u001b[49m\u001b[43mregion\u001b[49m\u001b[43m,\u001b[49m\n\u001b[32m   1199\u001b[39m \u001b[43m    \u001b[49m\u001b[43mmode\u001b[49m\u001b[43m=\u001b[49m\u001b[38;5;28;43mself\u001b[39;49m\u001b[43m.\u001b[49m\u001b[43m_mode\u001b[49m\u001b[43m,\u001b[49m\n\u001b[32m   1200\u001b[39m \u001b[43m    \u001b[49m\u001b[43mshape\u001b[49m\u001b[43m=\u001b[49m\u001b[43mzarr_shape\u001b[49m\u001b[43m,\u001b[49m\n\u001b[32m   1201\u001b[39m \u001b[43m\u001b[49m\u001b[43m)\u001b[49m\n\u001b[32m   1203\u001b[39m \u001b[38;5;28;01mif\u001b[39;00m \u001b[38;5;28mself\u001b[39m._mode == \u001b[33m\"\u001b[39m\u001b[33mw\u001b[39m\u001b[33m\"\u001b[39m \u001b[38;5;129;01mor\u001b[39;00m name \u001b[38;5;129;01mnot\u001b[39;00m \u001b[38;5;129;01min\u001b[39;00m existing_keys:\n\u001b[32m   1204\u001b[39m     \u001b[38;5;66;03m# new variable\u001b[39;00m\n\u001b[32m   1205\u001b[39m     encoded_attrs = {k: \u001b[38;5;28mself\u001b[39m.encode_attribute(v) \u001b[38;5;28;01mfor\u001b[39;00m k, v \u001b[38;5;129;01min\u001b[39;00m attrs.items()}\n",
      "\u001b[36mFile \u001b[39m\u001b[32m~/miniforge3/envs/goesenv/lib/python3.13/site-packages/xarray/backends/zarr.py:482\u001b[39m, in \u001b[36mextract_zarr_variable_encoding\u001b[39m\u001b[34m(variable, raise_on_invalid, name, safe_chunks, region, mode, shape)\u001b[39m\n\u001b[32m    479\u001b[39m         \u001b[38;5;28;01mif\u001b[39;00m k \u001b[38;5;129;01mnot\u001b[39;00m \u001b[38;5;129;01min\u001b[39;00m valid_encodings:\n\u001b[32m    480\u001b[39m             \u001b[38;5;28;01mdel\u001b[39;00m encoding[k]\n\u001b[32m--> \u001b[39m\u001b[32m482\u001b[39m chunks = \u001b[43m_determine_zarr_chunks\u001b[49m\u001b[43m(\u001b[49m\n\u001b[32m    483\u001b[39m \u001b[43m    \u001b[49m\u001b[43menc_chunks\u001b[49m\u001b[43m=\u001b[49m\u001b[43mencoding\u001b[49m\u001b[43m.\u001b[49m\u001b[43mget\u001b[49m\u001b[43m(\u001b[49m\u001b[33;43m\"\u001b[39;49m\u001b[33;43mchunks\u001b[39;49m\u001b[33;43m\"\u001b[39;49m\u001b[43m)\u001b[49m\u001b[43m,\u001b[49m\n\u001b[32m    484\u001b[39m \u001b[43m    \u001b[49m\u001b[43mvar_chunks\u001b[49m\u001b[43m=\u001b[49m\u001b[43mvariable\u001b[49m\u001b[43m.\u001b[49m\u001b[43mchunks\u001b[49m\u001b[43m,\u001b[49m\n\u001b[32m    485\u001b[39m \u001b[43m    \u001b[49m\u001b[43mndim\u001b[49m\u001b[43m=\u001b[49m\u001b[43mvariable\u001b[49m\u001b[43m.\u001b[49m\u001b[43mndim\u001b[49m\u001b[43m,\u001b[49m\n\u001b[32m    486\u001b[39m \u001b[43m    \u001b[49m\u001b[43mname\u001b[49m\u001b[43m=\u001b[49m\u001b[43mname\u001b[49m\u001b[43m,\u001b[49m\n\u001b[32m    487\u001b[39m \u001b[43m    \u001b[49m\u001b[43msafe_chunks\u001b[49m\u001b[43m=\u001b[49m\u001b[43msafe_chunks\u001b[49m\u001b[43m,\u001b[49m\n\u001b[32m    488\u001b[39m \u001b[43m    \u001b[49m\u001b[43mregion\u001b[49m\u001b[43m=\u001b[49m\u001b[43mregion\u001b[49m\u001b[43m,\u001b[49m\n\u001b[32m    489\u001b[39m \u001b[43m    \u001b[49m\u001b[43mmode\u001b[49m\u001b[43m=\u001b[49m\u001b[43mmode\u001b[49m\u001b[43m,\u001b[49m\n\u001b[32m    490\u001b[39m \u001b[43m    \u001b[49m\u001b[43mshape\u001b[49m\u001b[43m=\u001b[49m\u001b[43mshape\u001b[49m\u001b[43m,\u001b[49m\n\u001b[32m    491\u001b[39m \u001b[43m\u001b[49m\u001b[43m)\u001b[49m\n\u001b[32m    492\u001b[39m \u001b[38;5;28;01mif\u001b[39;00m _zarr_v3() \u001b[38;5;129;01mand\u001b[39;00m chunks \u001b[38;5;129;01mis\u001b[39;00m \u001b[38;5;28;01mNone\u001b[39;00m:\n\u001b[32m    493\u001b[39m     chunks = \u001b[33m\"\u001b[39m\u001b[33mauto\u001b[39m\u001b[33m\"\u001b[39m\n",
      "\u001b[36mFile \u001b[39m\u001b[32m~/miniforge3/envs/goesenv/lib/python3.13/site-packages/xarray/backends/zarr.py:333\u001b[39m, in \u001b[36m_determine_zarr_chunks\u001b[39m\u001b[34m(enc_chunks, var_chunks, ndim, name, safe_chunks, region, mode, shape)\u001b[39m\n\u001b[32m    331\u001b[39m \u001b[38;5;28;01mfor\u001b[39;00m dchunk \u001b[38;5;129;01min\u001b[39;00m dchunks[\u001b[32m1\u001b[39m:-\u001b[32m1\u001b[39m]:\n\u001b[32m    332\u001b[39m     \u001b[38;5;28;01mif\u001b[39;00m dchunk % zchunk:\n\u001b[32m--> \u001b[39m\u001b[32m333\u001b[39m         \u001b[38;5;28;01mraise\u001b[39;00m \u001b[38;5;167;01mValueError\u001b[39;00m(base_error)\n\u001b[32m    335\u001b[39m region_start = interval.start \u001b[38;5;28;01mif\u001b[39;00m interval.start \u001b[38;5;28;01melse\u001b[39;00m \u001b[32m0\u001b[39m\n\u001b[32m    337\u001b[39m \u001b[38;5;28;01mif\u001b[39;00m \u001b[38;5;28mlen\u001b[39m(dchunks) > \u001b[32m1\u001b[39m:\n\u001b[32m    338\u001b[39m     \u001b[38;5;66;03m# The first border size is the amount of data that needs to be updated on the\u001b[39;00m\n\u001b[32m    339\u001b[39m     \u001b[38;5;66;03m# first chunk taking into account the region slice.\u001b[39;00m\n",
      "\u001b[31mValueError\u001b[39m: Specified zarr chunks encoding['chunks']=(288,) for variable named 'max_radiance_value_of_valid_pixels' would overlap multiple dask chunks ((288, 288, 288, 288, 288, 288, 288, 288, 287, 288, 288, 288, 288, 288, 288, 288, 288, 288, 286),) on the region (slice(None, None, None),). Writing this array in parallel with dask could lead to corrupted data. Consider either rechunking using `chunk()`, deleting or modifying `encoding['chunks']`, or specify `safe_chunks=False`."
     ]
    }
   ],
   "source": [
    "def combine_zarr_files(input_dir, output_file):\n",
    "    # List all Zarr files in the input directory\n",
    "    zarr_files = [os.path.join(input_dir, f) for f in os.listdir(input_dir) if f.endswith('.zarr')]\n",
    "\n",
    "    # Open each Zarr file as an xarray.Dataset\n",
    "    datasets = [xr.open_zarr(zarr_file) for zarr_file in zarr_files]\n",
    "\n",
    "    # Concatenate datasets along the 't' dimension\n",
    "    combined_ds = xr.concat(datasets, dim='t')\n",
    "\n",
    "    # Save the combined dataset to a new Zarr file\n",
    "    combined_ds.to_zarr(output_file, mode='w')\n",
    "\n",
    "# Example usage\n",
    "input_dir = '/storage/cdalden/goes/goes16/2023/'\n",
    "output_file = '/storage/cdalden/goes/goes16/2023/goes16_C02_colorado_202306_combined.zarr'\n",
    "\n",
    "combine_zarr_files(input_dir, output_file)"
   ]
  },
  {
   "cell_type": "code",
   "execution_count": null,
   "metadata": {},
   "outputs": [],
   "source": []
  }
 ],
 "metadata": {
  "kernelspec": {
   "display_name": "goesenv",
   "language": "python",
   "name": "python3"
  },
  "language_info": {
   "codemirror_mode": {
    "name": "ipython",
    "version": 3
   },
   "file_extension": ".py",
   "mimetype": "text/x-python",
   "name": "python",
   "nbconvert_exporter": "python",
   "pygments_lexer": "ipython3",
   "version": "3.13.2"
  }
 },
 "nbformat": 4,
 "nbformat_minor": 2
}
