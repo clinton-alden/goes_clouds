{
 "cells": [
  {
   "cell_type": "code",
   "execution_count": 2,
   "metadata": {},
   "outputs": [],
   "source": [
    "import xarray as xr\n",
    "import numpy as np\n",
    "import matplotlib.pyplot as plt\n",
    "from datetime import datetime, timedelta\n",
    "import imageio\n",
    "import os\n",
    "import shutil\n",
    "\n",
    "# suppress warnings\n",
    "import warnings\n",
    "warnings.filterwarnings(\"ignore\")\n"
   ]
  },
  {
   "cell_type": "code",
   "execution_count": 2,
   "metadata": {},
   "outputs": [],
   "source": [
    "# Function to generate the time string based on date and time of day\n",
    "def generate_time(date, time_of_day):\n",
    "    # Convert date string to datetime object\n",
    "    date_obj = datetime.strptime(date, '%Y%m%d')\n",
    "    # Format the date part\n",
    "    date_str = date_obj.strftime('%Y-%m-%d')\n",
    "    # Combine date and time of day\n",
    "    time_str = f'{date_str}T{time_of_day}'\n",
    "    return time_str\n",
    "\n",
    "def plot_rgb_image(ds, date, time_of_day, gif=False):\n",
    "    \"\"\"\"\"\n",
    "    Plot RGB image from xarray dataset and save as PNG.\n",
    "    Parameters:\n",
    "    ds (xarray.Dataset): The dataset containing the RGB channels.\n",
    "    date (str): The date in 'YYYYMMDD' format.\n",
    "    time_of_day (str): The time of day in 'HH:MM:SS' format.\n",
    "    gif (bool): Whether to save the plot as a GIF.\n",
    "    \"\"\"\n",
    "\n",
    "    # Extract the values as NumPy arrays\n",
    "    red = ds['red'].values\n",
    "    green = ds['green'].values\n",
    "    blue = ds['blue'].values\n",
    "\n",
    "    # Find the minimum shape among the arrays\n",
    "    min_shape = np.min([red.shape, green.shape, blue.shape], axis=0)\n",
    "\n",
    "    # Resize the arrays to the minimum shape\n",
    "    red_resized = red[:min_shape[0], :min_shape[1]]\n",
    "    green_resized = green[:min_shape[0], :min_shape[1]]\n",
    "    blue_resized = blue[:min_shape[0], :min_shape[1]]\n",
    "\n",
    "    # Ensure the arrays have the same dimensions\n",
    "    assert red_resized.shape == green_resized.shape == blue_resized.shape, \"Arrays must have the same shape\"\n",
    "\n",
    "    # Stack the arrays along the last dimension to create an RGB image\n",
    "    rgb_image = np.stack([red_resized, green_resized, blue_resized], axis=-1)\n",
    "\n",
    "    # Extract longitude and latitude values\n",
    "    lon = ds['x'].values\n",
    "    lat = ds['y'].values\n",
    "\n",
    "    # Plot the RGB image using matplotlib's imshow\n",
    "    rgb_plot = plt.imshow(rgb_image, extent=[lon.min(), lon.max(), lat.min(), lat.max()])\n",
    "    plt.xlabel('Longitude')\n",
    "    plt.ylabel('Latitude')\n",
    "    plt.title('GOES Day Cloud Phase RGB Composite - ' + date + ' ' + time_of_day + ' UTC')\n",
    "    plt.axis('on')  # Show the axis\n",
    "\n",
    "    # Save the plot as a PNG file\n",
    "    filename = f'./plots/goes_RGB_{date}_{time_of_day}.png'\n",
    "    plt.savefig(filename)\n",
    "\n",
    "    \n",
    "    if gif:\n",
    "        plt.close()\n",
    "        return filename\n",
    "    else:\n",
    "        return rgb_plot\n",
    "        plt.show()\n",
    "\n",
    "def zarr_to_rgb_image(ds, date, time_of_day):\n",
    "\n",
    "    time = generate_time(date, time_of_day)\n",
    "\n",
    "    # loop through the three channels\n",
    "    for channel in ['02', '05', '13']:\n",
    "        ds = open_zarr(date, channel, time)\n",
    "        ds = normalize_to_255(ds)\n",
    "        if channel == '02':\n",
    "            ds_green = ds\n",
    "        elif channel == '05':\n",
    "            ds_blue = ds\n",
    "        elif channel == '13':\n",
    "            ds_red = ds\n",
    "\n",
    "    return plot_rgb_image(ds, date, time_of_day)\n",
    "\n",
    "def create_gif_from_pngs(png_dir, output_gif):\n",
    "    # Get a list of all PNG files in the directory\n",
    "    png_files = sorted([f for f in os.listdir(png_dir) if f.endswith('.png')])\n",
    "\n",
    "    # Read each image and append it to the images list\n",
    "    images = []\n",
    "    for png_file in png_files:\n",
    "        image_path = os.path.join(png_dir, png_file)\n",
    "        images.append(imageio.imread(image_path))\n",
    "\n",
    "    # Create and save the GIF\n",
    "    imageio.mimsave(output_gif, images, duration=0.1)  # Adjust the duration as needed\n",
    "    \n",
    "def create_daily_goes_gif(date, start_time, end_time):\n",
    "    start_time_out = start_time.replace(':', '')[:4]\n",
    "    end_time_out =  end_time.replace(':', '')[:4]\n",
    "    # Set the initial time and end time\n",
    "    start_time = datetime.strptime(start_time, '%H:%M:%S')\n",
    "    end_time = datetime.strptime(end_time, '%H:%M:%S')\n",
    "    time_of_day = start_time\n",
    "\n",
    "    # Path to the directory\n",
    "    plots_dir = './plots'\n",
    "\n",
    "    # Iterate over all files and directories in the specified directory\n",
    "    for filename in os.listdir(plots_dir):\n",
    "        file_path = os.path.join(plots_dir, filename)\n",
    "        try:\n",
    "            if os.path.isfile(file_path) or os.path.islink(file_path):\n",
    "                os.unlink(file_path)  # Remove the file or link\n",
    "            elif os.path.isdir(file_path):\n",
    "                shutil.rmtree(file_path)  # Remove the directory and its contents\n",
    "        except Exception as e:\n",
    "            print(f'Failed to delete {file_path}. Reason: {e}')\n",
    "\n",
    "    # Loop through every 10 minutes\n",
    "    while time_of_day <= end_time:\n",
    "        time_of_day_str = time_of_day.strftime('%H:%M:%S')\n",
    "        zarr_to_rgb_image(date, time_of_day_str)\n",
    "        time_of_day += timedelta(minutes=10)\n",
    "        print(f'Generated RGB image for {time_of_day_str}')\n",
    "\n",
    "    # Directory containing PNG images\n",
    "    png_dir = './plots'\n",
    "\n",
    "    # Output GIF file path\n",
    "    output_gif = f'./goes_RGB_{date}_{start_time_out}_{end_time_out}.gif'\n",
    "\n",
    "    # Create the GIF\n",
    "    create_gif_from_pngs(png_dir, output_gif)\n",
    "\n",
    "    print(f\"GIF saved as {output_gif}\")"
   ]
  },
  {
   "cell_type": "code",
   "execution_count": 3,
   "metadata": {},
   "outputs": [],
   "source": [
    "# date = '20230603'\n",
    "# start_time = '12:00:00'\n",
    "# end_time = '23:50:00'\n",
    "\n",
    "# create_daily_goes_gif(date, start_time, end_time)"
   ]
  },
  {
   "cell_type": "code",
   "execution_count": 4,
   "metadata": {},
   "outputs": [],
   "source": [
    "date = '20230605'\n",
    "input_file = f'/storage/cdalden/goes/goes16/RGB_composite/goes16_C02_C05_C13_RGB_colorado_{date}.nc'\n",
    "ds = xr.open_dataset(input_file)"
   ]
  },
  {
   "cell_type": "code",
   "execution_count": 5,
   "metadata": {},
   "outputs": [
    {
     "name": "stdout",
     "output_type": "stream",
     "text": [
      "Generated RGB image for 2023-06-05T16:00:00\n",
      "Generated RGB image for 2023-06-05T16:10:00\n",
      "Generated RGB image for 2023-06-05T16:20:00\n",
      "Generated RGB image for 2023-06-05T16:30:00\n",
      "Generated RGB image for 2023-06-05T16:40:00\n",
      "Generated RGB image for 2023-06-05T16:50:00\n",
      "Generated RGB image for 2023-06-05T17:00:00\n",
      "Generated RGB image for 2023-06-05T17:10:00\n",
      "Generated RGB image for 2023-06-05T17:20:00\n",
      "Generated RGB image for 2023-06-05T17:30:00\n",
      "Generated RGB image for 2023-06-05T17:40:00\n",
      "Generated RGB image for 2023-06-05T17:50:00\n",
      "Generated RGB image for 2023-06-05T18:00:00\n",
      "Generated RGB image for 2023-06-05T18:10:00\n",
      "Generated RGB image for 2023-06-05T18:20:00\n",
      "Generated RGB image for 2023-06-05T18:30:00\n",
      "Generated RGB image for 2023-06-05T18:40:00\n",
      "Generated RGB image for 2023-06-05T18:50:00\n",
      "Generated RGB image for 2023-06-05T19:00:00\n",
      "Generated RGB image for 2023-06-05T19:10:00\n",
      "Generated RGB image for 2023-06-05T19:20:00\n",
      "Generated RGB image for 2023-06-05T19:30:00\n",
      "Generated RGB image for 2023-06-05T19:40:00\n",
      "Generated RGB image for 2023-06-05T19:50:00\n",
      "Generated RGB image for 2023-06-05T20:00:00\n",
      "Generated RGB image for 2023-06-05T20:10:00\n",
      "Generated RGB image for 2023-06-05T20:20:00\n",
      "Generated RGB image for 2023-06-05T20:30:00\n",
      "Generated RGB image for 2023-06-05T20:40:00\n",
      "Generated RGB image for 2023-06-05T20:50:00\n",
      "Generated RGB image for 2023-06-05T21:00:00\n",
      "Generated RGB image for 2023-06-05T21:10:00\n",
      "Generated RGB image for 2023-06-05T21:20:00\n",
      "Generated RGB image for 2023-06-05T21:30:00\n",
      "Generated RGB image for 2023-06-05T21:40:00\n",
      "Generated RGB image for 2023-06-05T21:50:00\n",
      "Generated RGB image for 2023-06-05T22:00:00\n",
      "Generated RGB image for 2023-06-05T22:10:00\n",
      "Generated RGB image for 2023-06-05T22:20:00\n",
      "Generated RGB image for 2023-06-05T22:30:00\n",
      "Generated RGB image for 2023-06-05T22:40:00\n",
      "Generated RGB image for 2023-06-05T22:50:00\n",
      "Generated RGB image for 2023-06-05T23:00:00\n"
     ]
    }
   ],
   "source": [
    "# Define the start and end times\n",
    "# date = '20230205'\n",
    "start_time = datetime.strptime('2023-06-05T16:00:00', '%Y-%m-%dT%H:%M:%S')\n",
    "end_time = datetime.strptime('2023-06-05T23:00:00', '%Y-%m-%dT%H:%M:%S')\n",
    "\n",
    "\n",
    "ds = ds.sortby('t')\n",
    "\n",
    "# List to store the filenames of the generated plots\n",
    "filenames = []\n",
    "\n",
    "# Loop through every 10-minute chunk\n",
    "current_time = start_time\n",
    "while current_time <= end_time:\n",
    "    time_str = current_time.strftime('%Y-%m-%dT%H:%M:%S')\n",
    "    ds_i = ds.sel(t=time_str, method='nearest')\n",
    "    hour_of_day = current_time.strftime('%H:%M')\n",
    "    filename = plot_rgb_image(ds_i, date, hour_of_day, gif=True)\n",
    "    filenames.append(filename)\n",
    "    current_time += timedelta(minutes=10)\n",
    "    print(f'Generated RGB image for {time_str}')\n",
    "\n",
    "# Create the GIF\n",
    "start_time_out = start_time.strftime('%H%M')\n",
    "end_time_out =  end_time.strftime('%H%M')\n",
    "output_gif = f'./goes_RGB_{date}_{start_time_out}_{end_time_out}.gif'\n",
    "with imageio.get_writer(output_gif, mode='I', duration=0.5) as writer:\n",
    "    for filename in filenames:\n",
    "        image = imageio.imread(filename)\n",
    "        writer.append_data(image)\n",
    "\n",
    "# Clean up the temporary files\n",
    "import os\n",
    "for filename in filenames:\n",
    "    os.remove(filename)"
   ]
  },
  {
   "cell_type": "code",
   "execution_count": 6,
   "metadata": {},
   "outputs": [
    {
     "name": "stdout",
     "output_type": "stream",
     "text": [
      "Duration: 0.1 seconds\n",
      "FPS: 100.0\n",
      "Frame count: 10.0\n",
      "Moviepy - Building video goes_RGB_20230605_1600_2300.mp4.\n",
      "Moviepy - Writing video goes_RGB_20230605_1600_2300.mp4\n",
      "\n"
     ]
    },
    {
     "name": "stderr",
     "output_type": "stream",
     "text": [
      "                                                  "
     ]
    },
    {
     "name": "stdout",
     "output_type": "stream",
     "text": [
      "Moviepy - Done !\n",
      "Moviepy - video ready goes_RGB_20230605_1600_2300.mp4\n"
     ]
    },
    {
     "name": "stderr",
     "output_type": "stream",
     "text": [
      "\r"
     ]
    }
   ],
   "source": [
    "from moviepy.editor import VideoFileClip\n",
    "\n",
    "# Load the GIF\n",
    "clip = VideoFileClip(\"/home/cdalden/goes_work/processing/goes_RGB_20230605_1600_2300.gif\")\n",
    "# Check the duration and frame count\n",
    "print(f\"Duration: {clip.duration} seconds\")\n",
    "print(f\"FPS: {clip.fps}\")\n",
    "print(f\"Frame count: {clip.duration * clip.fps}\")\n",
    "# Save as MP4\n",
    "clip.write_videofile(\"goes_RGB_20230605_1600_2300.mp4\", codec=\"libx264\", fps=30)"
   ]
  },
  {
   "cell_type": "code",
   "execution_count": 7,
   "metadata": {},
   "outputs": [
    {
     "name": "stdout",
     "output_type": "stream",
     "text": [
      "Frame count: 43\n"
     ]
    }
   ],
   "source": [
    "# Load the GIF\n",
    "gif_path = \"/home/cdalden/goes_work/processing/goes_RGB_20230605_1600_2300.gif\"\n",
    "gif = imageio.get_reader(gif_path)\n",
    "\n",
    "# Count the frames\n",
    "frame_count = sum(1 for _ in gif)\n",
    "print(f\"Frame count: {frame_count}\")"
   ]
  },
  {
   "cell_type": "markdown",
   "metadata": {},
   "source": [
    "## Testing"
   ]
  },
  {
   "cell_type": "code",
   "execution_count": 3,
   "metadata": {},
   "outputs": [
    {
     "name": "stdout",
     "output_type": "stream",
     "text": [
      "\u001b[31mSignature:\u001b[39m goes_rad_to_rgb(path, date)\n",
      "\u001b[31mDocstring:\u001b[39m\n",
      "Downscale GOES-16 bands C02, C05, and C13 to the same grid and interpolate to match the target dataset.\n",
      "The function also calculates reflectivity and brightness temperature for the specified bands.\n",
      "\n",
      "Parameters:\n",
      "path (str): The path to the directory containing the GOES-16 data files.\n",
      "date (str): The date string in the format 'YYYYMMDD'.\n",
      "\n",
      "Returns:\n",
      "xarray.Dataset: A dataset containing the downscaled reflectivity and brightness temperature.\n",
      "\u001b[31mFile:\u001b[39m      ~/goes_work/processing/utils.py\n",
      "\u001b[31mType:\u001b[39m      function"
     ]
    }
   ],
   "source": [
    "from utils import goes_rad_to_rgb\n",
    "goes_rad_to_rgb()"
   ]
  },
  {
   "cell_type": "code",
   "execution_count": 4,
   "metadata": {},
   "outputs": [
    {
     "ename": "KeyboardInterrupt",
     "evalue": "",
     "output_type": "error",
     "traceback": [
      "\u001b[31m---------------------------------------------------------------------------\u001b[39m",
      "\u001b[31mKeyboardInterrupt\u001b[39m                         Traceback (most recent call last)",
      "\u001b[36mCell\u001b[39m\u001b[36m \u001b[39m\u001b[32mIn[4]\u001b[39m\u001b[32m, line 3\u001b[39m\n\u001b[32m      1\u001b[39m path = \u001b[33m'\u001b[39m\u001b[33m/storage/cdalden/goes/goes16/\u001b[39m\u001b[33m'\u001b[39m\n\u001b[32m      2\u001b[39m date = \u001b[33m'\u001b[39m\u001b[33m20230209\u001b[39m\u001b[33m'\u001b[39m\n\u001b[32m----> \u001b[39m\u001b[32m3\u001b[39m \u001b[43mgoes_rad_to_rgb\u001b[49m\u001b[43m(\u001b[49m\u001b[43mpath\u001b[49m\u001b[43m,\u001b[49m\u001b[43m \u001b[49m\u001b[43mdate\u001b[49m\u001b[43m)\u001b[49m\n",
      "\u001b[36mFile \u001b[39m\u001b[32m~/goes_work/processing/utils.py:190\u001b[39m, in \u001b[36mgoes_rad_to_rgb\u001b[39m\u001b[34m(path, date)\u001b[39m\n\u001b[32m    187\u001b[39m ds_C05_aligned = ds_C05.reindex_like(ds_C02, method=\u001b[33m'\u001b[39m\u001b[33mnearest\u001b[39m\u001b[33m'\u001b[39m)\n\u001b[32m    189\u001b[39m \u001b[38;5;66;03m# Interpolate the source dataset to the target dataset's grid using a specified method\u001b[39;00m\n\u001b[32m--> \u001b[39m\u001b[32m190\u001b[39m ds_C13_resampled = \u001b[43mds_C13_aligned\u001b[49m\u001b[43m.\u001b[49m\u001b[43minterp\u001b[49m\u001b[43m(\u001b[49m\u001b[43my\u001b[49m\u001b[43m=\u001b[49m\u001b[43mtarget_lat\u001b[49m\u001b[43m,\u001b[49m\u001b[43m \u001b[49m\u001b[43mx\u001b[49m\u001b[43m=\u001b[49m\u001b[43mtarget_lon\u001b[49m\u001b[43m,\u001b[49m\u001b[43m \u001b[49m\u001b[43mmethod\u001b[49m\u001b[43m=\u001b[49m\u001b[33;43m'\u001b[39;49m\u001b[33;43mlinear\u001b[39;49m\u001b[33;43m'\u001b[39;49m\u001b[43m)\u001b[49m\n\u001b[32m    191\u001b[39m ds_C05_resampled = ds_C05_aligned.interp(y=target_lat, x=target_lon, method=\u001b[33m'\u001b[39m\u001b[33mlinear\u001b[39m\u001b[33m'\u001b[39m)\n\u001b[32m    192\u001b[39m \u001b[38;5;66;03m# If there are still NaNs, try filling them with a method like nearest neighbor\u001b[39;00m\n",
      "\u001b[36mFile \u001b[39m\u001b[32m~/miniforge3/envs/goesenv/lib/python3.13/site-packages/xarray/core/dataset.py:3884\u001b[39m, in \u001b[36mDataset.interp\u001b[39m\u001b[34m(self, coords, method, assume_sorted, kwargs, method_non_numeric, **coords_kwargs)\u001b[39m\n\u001b[32m   3881\u001b[39m \u001b[38;5;28;01mif\u001b[39;00m dtype_kind \u001b[38;5;129;01min\u001b[39;00m \u001b[33m\"\u001b[39m\u001b[33muifc\u001b[39m\u001b[33m\"\u001b[39m:\n\u001b[32m   3882\u001b[39m     \u001b[38;5;66;03m# For normal number types do the interpolation:\u001b[39;00m\n\u001b[32m   3883\u001b[39m     var_indexers = {k: v \u001b[38;5;28;01mfor\u001b[39;00m k, v \u001b[38;5;129;01min\u001b[39;00m use_indexers.items() \u001b[38;5;28;01mif\u001b[39;00m k \u001b[38;5;129;01min\u001b[39;00m var.dims}\n\u001b[32m-> \u001b[39m\u001b[32m3884\u001b[39m     variables[name] = \u001b[43mmissing\u001b[49m\u001b[43m.\u001b[49m\u001b[43minterp\u001b[49m\u001b[43m(\u001b[49m\u001b[43mvar\u001b[49m\u001b[43m,\u001b[49m\u001b[43m \u001b[49m\u001b[43mvar_indexers\u001b[49m\u001b[43m,\u001b[49m\u001b[43m \u001b[49m\u001b[43mmethod\u001b[49m\u001b[43m,\u001b[49m\u001b[43m \u001b[49m\u001b[43m*\u001b[49m\u001b[43m*\u001b[49m\u001b[43mkwargs\u001b[49m\u001b[43m)\u001b[49m\n\u001b[32m   3885\u001b[39m \u001b[38;5;28;01melif\u001b[39;00m dtype_kind \u001b[38;5;129;01min\u001b[39;00m \u001b[33m\"\u001b[39m\u001b[33mObU\u001b[39m\u001b[33m\"\u001b[39m \u001b[38;5;129;01mand\u001b[39;00m (use_indexers.keys() & var.dims):\n\u001b[32m   3886\u001b[39m     \u001b[38;5;66;03m# For types that we do not understand do stepwise\u001b[39;00m\n\u001b[32m   3887\u001b[39m     \u001b[38;5;66;03m# interpolation to avoid modifying the elements.\u001b[39;00m\n\u001b[32m   (...)\u001b[39m\u001b[32m   3890\u001b[39m     \u001b[38;5;66;03m# this loop there might be some duplicate code that slows it\u001b[39;00m\n\u001b[32m   3891\u001b[39m     \u001b[38;5;66;03m# down, therefore collect these signals and run it later:\u001b[39;00m\n\u001b[32m   3892\u001b[39m     reindex_vars.append(name)\n",
      "\u001b[36mFile \u001b[39m\u001b[32m~/miniforge3/envs/goesenv/lib/python3.13/site-packages/xarray/core/missing.py:668\u001b[39m, in \u001b[36minterp\u001b[39m\u001b[34m(var, indexes_coords, method, **kwargs)\u001b[39m\n\u001b[32m    666\u001b[39m broadcast_dims = [d \u001b[38;5;28;01mfor\u001b[39;00m d \u001b[38;5;129;01min\u001b[39;00m var.dims \u001b[38;5;28;01mif\u001b[39;00m d \u001b[38;5;129;01mnot\u001b[39;00m \u001b[38;5;129;01min\u001b[39;00m dims]\n\u001b[32m    667\u001b[39m original_dims = broadcast_dims + dims\n\u001b[32m--> \u001b[39m\u001b[32m668\u001b[39m result = \u001b[43minterpolate_variable\u001b[49m\u001b[43m(\u001b[49m\n\u001b[32m    669\u001b[39m \u001b[43m    \u001b[49m\u001b[43mvar\u001b[49m\u001b[43m.\u001b[49m\u001b[43mtranspose\u001b[49m\u001b[43m(\u001b[49m\u001b[43m*\u001b[49m\u001b[43moriginal_dims\u001b[49m\u001b[43m)\u001b[49m\u001b[43m,\u001b[49m\n\u001b[32m    670\u001b[39m \u001b[43m    \u001b[49m\u001b[43m{\u001b[49m\u001b[43mk\u001b[49m\u001b[43m:\u001b[49m\u001b[43m \u001b[49m\u001b[43mindep_indexes_coords\u001b[49m\u001b[43m[\u001b[49m\u001b[43mk\u001b[49m\u001b[43m]\u001b[49m\u001b[43m \u001b[49m\u001b[38;5;28;43;01mfor\u001b[39;49;00m\u001b[43m \u001b[49m\u001b[43mk\u001b[49m\u001b[43m \u001b[49m\u001b[38;5;129;43;01min\u001b[39;49;00m\u001b[43m \u001b[49m\u001b[43mdims\u001b[49m\u001b[43m}\u001b[49m\u001b[43m,\u001b[49m\n\u001b[32m    671\u001b[39m \u001b[43m    \u001b[49m\u001b[43mmethod\u001b[49m\u001b[43m=\u001b[49m\u001b[43mmethod\u001b[49m\u001b[43m,\u001b[49m\n\u001b[32m    672\u001b[39m \u001b[43m    \u001b[49m\u001b[43mkwargs\u001b[49m\u001b[43m=\u001b[49m\u001b[43mkwargs\u001b[49m\u001b[43m,\u001b[49m\n\u001b[32m    673\u001b[39m \u001b[43m\u001b[49m\u001b[43m)\u001b[49m\n\u001b[32m    675\u001b[39m \u001b[38;5;66;03m# dimension of the output array\u001b[39;00m\n\u001b[32m    676\u001b[39m out_dims: OrderedSet = OrderedSet()\n",
      "\u001b[36mFile \u001b[39m\u001b[32m~/miniforge3/envs/goesenv/lib/python3.13/site-packages/xarray/core/missing.py:741\u001b[39m, in \u001b[36minterpolate_variable\u001b[39m\u001b[34m(var, indexes_coords, method, kwargs)\u001b[39m\n\u001b[32m    739\u001b[39m \u001b[38;5;66;03m# scipy.interpolate.interp1d always forces to float.\u001b[39;00m\n\u001b[32m    740\u001b[39m dtype = \u001b[38;5;28mfloat\u001b[39m \u001b[38;5;28;01mif\u001b[39;00m \u001b[38;5;129;01mnot\u001b[39;00m \u001b[38;5;28missubclass\u001b[39m(var.dtype.type, np.inexact) \u001b[38;5;28;01melse\u001b[39;00m var.dtype\n\u001b[32m--> \u001b[39m\u001b[32m741\u001b[39m result = \u001b[43mapply_ufunc\u001b[49m\u001b[43m(\u001b[49m\n\u001b[32m    742\u001b[39m \u001b[43m    \u001b[49m\u001b[43m_interpnd\u001b[49m\u001b[43m,\u001b[49m\n\u001b[32m    743\u001b[39m \u001b[43m    \u001b[49m\u001b[43mvar\u001b[49m\u001b[43m,\u001b[49m\n\u001b[32m    744\u001b[39m \u001b[43m    \u001b[49m\u001b[43m*\u001b[49m\u001b[43min_coords\u001b[49m\u001b[43m,\u001b[49m\n\u001b[32m    745\u001b[39m \u001b[43m    \u001b[49m\u001b[43m*\u001b[49m\u001b[43mresult_coords\u001b[49m\u001b[43m,\u001b[49m\n\u001b[32m    746\u001b[39m \u001b[43m    \u001b[49m\u001b[43minput_core_dims\u001b[49m\u001b[43m=\u001b[49m\u001b[43minput_core_dims\u001b[49m\u001b[43m,\u001b[49m\n\u001b[32m    747\u001b[39m \u001b[43m    \u001b[49m\u001b[43moutput_core_dims\u001b[49m\u001b[43m=\u001b[49m\u001b[43m[\u001b[49m\u001b[43moutput_core_dims\u001b[49m\u001b[43m]\u001b[49m\u001b[43m,\u001b[49m\n\u001b[32m    748\u001b[39m \u001b[43m    \u001b[49m\u001b[43mexclude_dims\u001b[49m\u001b[43m=\u001b[49m\u001b[43mall_in_core_dims\u001b[49m\u001b[43m,\u001b[49m\n\u001b[32m    749\u001b[39m \u001b[43m    \u001b[49m\u001b[43mdask\u001b[49m\u001b[43m=\u001b[49m\u001b[33;43m\"\u001b[39;49m\u001b[33;43mparallelized\u001b[39;49m\u001b[33;43m\"\u001b[39;49m\u001b[43m,\u001b[49m\n\u001b[32m    750\u001b[39m \u001b[43m    \u001b[49m\u001b[43mkwargs\u001b[49m\u001b[43m=\u001b[49m\u001b[38;5;28;43mdict\u001b[39;49m\u001b[43m(\u001b[49m\n\u001b[32m    751\u001b[39m \u001b[43m        \u001b[49m\u001b[43minterp_func\u001b[49m\u001b[43m=\u001b[49m\u001b[43mfunc\u001b[49m\u001b[43m,\u001b[49m\n\u001b[32m    752\u001b[39m \u001b[43m        \u001b[49m\u001b[43minterp_kwargs\u001b[49m\u001b[43m=\u001b[49m\u001b[43mkwargs\u001b[49m\u001b[43m,\u001b[49m\n\u001b[32m    753\u001b[39m \u001b[43m        \u001b[49m\u001b[38;5;66;43;03m# we leave broadcasting up to dask if possible\u001b[39;49;00m\n\u001b[32m    754\u001b[39m \u001b[43m        \u001b[49m\u001b[38;5;66;43;03m# but we need broadcasted values in _interpnd, so propagate that\u001b[39;49;00m\n\u001b[32m    755\u001b[39m \u001b[43m        \u001b[49m\u001b[38;5;66;43;03m# context (dimension names), and broadcast there\u001b[39;49;00m\n\u001b[32m    756\u001b[39m \u001b[43m        \u001b[49m\u001b[38;5;66;43;03m# This would be unnecessary if we could tell apply_ufunc\u001b[39;49;00m\n\u001b[32m    757\u001b[39m \u001b[43m        \u001b[49m\u001b[38;5;66;43;03m# to insert size-1 broadcast dimensions\u001b[39;49;00m\n\u001b[32m    758\u001b[39m \u001b[43m        \u001b[49m\u001b[43mresult_coord_core_dims\u001b[49m\u001b[43m=\u001b[49m\u001b[43minput_core_dims\u001b[49m\u001b[43m[\u001b[49m\u001b[43m-\u001b[49m\u001b[38;5;28;43mlen\u001b[39;49m\u001b[43m(\u001b[49m\u001b[43mresult_coords\u001b[49m\u001b[43m)\u001b[49m\u001b[43m \u001b[49m\u001b[43m:\u001b[49m\u001b[43m]\u001b[49m\u001b[43m,\u001b[49m\n\u001b[32m    759\u001b[39m \u001b[43m    \u001b[49m\u001b[43m)\u001b[49m\u001b[43m,\u001b[49m\n\u001b[32m    760\u001b[39m \u001b[43m    \u001b[49m\u001b[38;5;66;43;03m# TODO: deprecate and have the user rechunk themselves\u001b[39;49;00m\n\u001b[32m    761\u001b[39m \u001b[43m    \u001b[49m\u001b[43mdask_gufunc_kwargs\u001b[49m\u001b[43m=\u001b[49m\u001b[38;5;28;43mdict\u001b[39;49m\u001b[43m(\u001b[49m\u001b[43moutput_sizes\u001b[49m\u001b[43m=\u001b[49m\u001b[43moutput_sizes\u001b[49m\u001b[43m,\u001b[49m\u001b[43m \u001b[49m\u001b[43mallow_rechunk\u001b[49m\u001b[43m=\u001b[49m\u001b[38;5;28;43;01mTrue\u001b[39;49;00m\u001b[43m)\u001b[49m\u001b[43m,\u001b[49m\n\u001b[32m    762\u001b[39m \u001b[43m    \u001b[49m\u001b[43moutput_dtypes\u001b[49m\u001b[43m=\u001b[49m\u001b[43m[\u001b[49m\u001b[43mdtype\u001b[49m\u001b[43m]\u001b[49m\u001b[43m,\u001b[49m\n\u001b[32m    763\u001b[39m \u001b[43m    \u001b[49m\u001b[43mvectorize\u001b[49m\u001b[43m=\u001b[49m\u001b[38;5;28;43mbool\u001b[39;49m\u001b[43m(\u001b[49m\u001b[43mvectorize_dims\u001b[49m\u001b[43m)\u001b[49m\u001b[43m,\u001b[49m\n\u001b[32m    764\u001b[39m \u001b[43m    \u001b[49m\u001b[43mkeep_attrs\u001b[49m\u001b[43m=\u001b[49m\u001b[38;5;28;43;01mTrue\u001b[39;49;00m\u001b[43m,\u001b[49m\n\u001b[32m    765\u001b[39m \u001b[43m\u001b[49m\u001b[43m)\u001b[49m\n\u001b[32m    766\u001b[39m \u001b[38;5;28;01mreturn\u001b[39;00m result\n",
      "\u001b[36mFile \u001b[39m\u001b[32m~/miniforge3/envs/goesenv/lib/python3.13/site-packages/xarray/computation/apply_ufunc.py:1278\u001b[39m, in \u001b[36mapply_ufunc\u001b[39m\u001b[34m(func, input_core_dims, output_core_dims, exclude_dims, vectorize, join, dataset_join, dataset_fill_value, keep_attrs, kwargs, dask, output_dtypes, output_sizes, meta, dask_gufunc_kwargs, on_missing_core_dim, *args)\u001b[39m\n\u001b[32m   1276\u001b[39m \u001b[38;5;66;03m# feed Variables directly through apply_variable_ufunc\u001b[39;00m\n\u001b[32m   1277\u001b[39m \u001b[38;5;28;01melif\u001b[39;00m \u001b[38;5;28many\u001b[39m(\u001b[38;5;28misinstance\u001b[39m(a, Variable) \u001b[38;5;28;01mfor\u001b[39;00m a \u001b[38;5;129;01min\u001b[39;00m args):\n\u001b[32m-> \u001b[39m\u001b[32m1278\u001b[39m     \u001b[38;5;28;01mreturn\u001b[39;00m \u001b[43mvariables_vfunc\u001b[49m\u001b[43m(\u001b[49m\u001b[43m*\u001b[49m\u001b[43margs\u001b[49m\u001b[43m)\u001b[49m\n\u001b[32m   1279\u001b[39m \u001b[38;5;28;01melse\u001b[39;00m:\n\u001b[32m   1280\u001b[39m     \u001b[38;5;66;03m# feed anything else through apply_array_ufunc\u001b[39;00m\n\u001b[32m   1281\u001b[39m     \u001b[38;5;28;01mreturn\u001b[39;00m apply_array_ufunc(func, *args, dask=dask)\n",
      "\u001b[36mFile \u001b[39m\u001b[32m~/miniforge3/envs/goesenv/lib/python3.13/site-packages/xarray/computation/apply_ufunc.py:821\u001b[39m, in \u001b[36mapply_variable_ufunc\u001b[39m\u001b[34m(func, signature, exclude_dims, dask, output_dtypes, vectorize, keep_attrs, dask_gufunc_kwargs, *args)\u001b[39m\n\u001b[32m    816\u001b[39m     \u001b[38;5;28;01mif\u001b[39;00m vectorize:\n\u001b[32m    817\u001b[39m         func = _vectorize(\n\u001b[32m    818\u001b[39m             func, signature, output_dtypes=output_dtypes, exclude_dims=exclude_dims\n\u001b[32m    819\u001b[39m         )\n\u001b[32m--> \u001b[39m\u001b[32m821\u001b[39m result_data = \u001b[43mfunc\u001b[49m\u001b[43m(\u001b[49m\u001b[43m*\u001b[49m\u001b[43minput_data\u001b[49m\u001b[43m)\u001b[49m\n\u001b[32m    823\u001b[39m \u001b[38;5;28;01mif\u001b[39;00m signature.num_outputs == \u001b[32m1\u001b[39m:\n\u001b[32m    824\u001b[39m     result_data = (result_data,)\n",
      "\u001b[36mFile \u001b[39m\u001b[32m~/miniforge3/envs/goesenv/lib/python3.13/site-packages/xarray/core/missing.py:834\u001b[39m, in \u001b[36m_interpnd\u001b[39m\u001b[34m(data, interp_func, interp_kwargs, result_coord_core_dims, *coords)\u001b[39m\n\u001b[32m    830\u001b[39m x_list, new_x_list = _floatize_x(x, new_x)\n\u001b[32m    832\u001b[39m \u001b[38;5;28;01mif\u001b[39;00m \u001b[38;5;28mlen\u001b[39m(x) == \u001b[32m1\u001b[39m:\n\u001b[32m    833\u001b[39m     \u001b[38;5;66;03m# TODO: narrow interp_func to interpolator here\u001b[39;00m\n\u001b[32m--> \u001b[39m\u001b[32m834\u001b[39m     \u001b[38;5;28;01mreturn\u001b[39;00m \u001b[43m_interp1d\u001b[49m\u001b[43m(\u001b[49m\u001b[43mvar\u001b[49m\u001b[43m,\u001b[49m\u001b[43m \u001b[49m\u001b[43mx_list\u001b[49m\u001b[43m,\u001b[49m\u001b[43m \u001b[49m\u001b[43mnew_x_list\u001b[49m\u001b[43m,\u001b[49m\u001b[43m \u001b[49m\u001b[43minterp_func\u001b[49m\u001b[43m,\u001b[49m\u001b[43m \u001b[49m\u001b[43minterp_kwargs\u001b[49m\u001b[43m)\u001b[49m  \u001b[38;5;66;03m# type: ignore[arg-type]\u001b[39;00m\n\u001b[32m    836\u001b[39m \u001b[38;5;66;03m# move the interpolation axes to the start position\u001b[39;00m\n\u001b[32m    837\u001b[39m data = transpose(var._data, \u001b[38;5;28mrange\u001b[39m(-\u001b[38;5;28mlen\u001b[39m(x), var.ndim - \u001b[38;5;28mlen\u001b[39m(x)))\n",
      "\u001b[36mFile \u001b[39m\u001b[32m~/miniforge3/envs/goesenv/lib/python3.13/site-packages/xarray/core/missing.py:779\u001b[39m, in \u001b[36m_interp1d\u001b[39m\u001b[34m(var, x_, new_x_, func, kwargs)\u001b[39m\n\u001b[32m    777\u001b[39m \u001b[38;5;66;03m# x, new_x are tuples of size 1.\u001b[39;00m\n\u001b[32m    778\u001b[39m x, new_x = x_[\u001b[32m0\u001b[39m], new_x_[\u001b[32m0\u001b[39m]\n\u001b[32m--> \u001b[39m\u001b[32m779\u001b[39m rslt = \u001b[43mfunc\u001b[49m\u001b[43m(\u001b[49m\u001b[43mx\u001b[49m\u001b[43m.\u001b[49m\u001b[43mdata\u001b[49m\u001b[43m,\u001b[49m\u001b[43m \u001b[49m\u001b[43mvar\u001b[49m\u001b[43m,\u001b[49m\u001b[43m \u001b[49m\u001b[43m*\u001b[49m\u001b[43m*\u001b[49m\u001b[43mkwargs\u001b[49m\u001b[43m)\u001b[49m\u001b[43m(\u001b[49m\u001b[43mravel\u001b[49m\u001b[43m(\u001b[49m\u001b[43mnew_x\u001b[49m\u001b[43m.\u001b[49m\u001b[43mdata\u001b[49m\u001b[43m)\u001b[49m\u001b[43m)\u001b[49m\n\u001b[32m    780\u001b[39m \u001b[38;5;28;01mif\u001b[39;00m new_x.ndim > \u001b[32m1\u001b[39m:\n\u001b[32m    781\u001b[39m     \u001b[38;5;28;01mreturn\u001b[39;00m reshape(rslt.data, (var.shape[:-\u001b[32m1\u001b[39m] + new_x.shape))\n",
      "\u001b[36mFile \u001b[39m\u001b[32m~/miniforge3/envs/goesenv/lib/python3.13/site-packages/xarray/core/missing.py:86\u001b[39m, in \u001b[36mBaseInterpolator.__call__\u001b[39m\u001b[34m(self, x)\u001b[39m\n\u001b[32m     85\u001b[39m \u001b[38;5;28;01mdef\u001b[39;00m\u001b[38;5;250m \u001b[39m\u001b[34m__call__\u001b[39m(\u001b[38;5;28mself\u001b[39m, x):\n\u001b[32m---> \u001b[39m\u001b[32m86\u001b[39m     \u001b[38;5;28;01mreturn\u001b[39;00m \u001b[38;5;28;43mself\u001b[39;49m\u001b[43m.\u001b[49m\u001b[43mf\u001b[49m\u001b[43m(\u001b[49m\u001b[43mx\u001b[49m\u001b[43m,\u001b[49m\u001b[43m \u001b[49m\u001b[43m*\u001b[49m\u001b[43m*\u001b[49m\u001b[38;5;28;43mself\u001b[39;49m\u001b[43m.\u001b[49m\u001b[43mcall_kwargs\u001b[49m\u001b[43m)\u001b[49m\n",
      "\u001b[36mFile \u001b[39m\u001b[32m~/miniforge3/envs/goesenv/lib/python3.13/site-packages/scipy/interpolate/_polyint.py:82\u001b[39m, in \u001b[36m_Interpolator1D.__call__\u001b[39m\u001b[34m(self, x)\u001b[39m\n\u001b[32m     61\u001b[39m \u001b[38;5;250m\u001b[39m\u001b[33;03m\"\"\"\u001b[39;00m\n\u001b[32m     62\u001b[39m \u001b[33;03mEvaluate the interpolant\u001b[39;00m\n\u001b[32m     63\u001b[39m \n\u001b[32m   (...)\u001b[39m\u001b[32m     79\u001b[39m \n\u001b[32m     80\u001b[39m \u001b[33;03m\"\"\"\u001b[39;00m\n\u001b[32m     81\u001b[39m x, x_shape = \u001b[38;5;28mself\u001b[39m._prepare_x(x)\n\u001b[32m---> \u001b[39m\u001b[32m82\u001b[39m y = \u001b[38;5;28;43mself\u001b[39;49m\u001b[43m.\u001b[49m\u001b[43m_evaluate\u001b[49m\u001b[43m(\u001b[49m\u001b[43mx\u001b[49m\u001b[43m)\u001b[49m\n\u001b[32m     83\u001b[39m \u001b[38;5;28;01mreturn\u001b[39;00m \u001b[38;5;28mself\u001b[39m._finish_y(y, x_shape)\n",
      "\u001b[36mFile \u001b[39m\u001b[32m~/miniforge3/envs/goesenv/lib/python3.13/site-packages/scipy/interpolate/_interpolate.py:533\u001b[39m, in \u001b[36minterp1d._evaluate\u001b[39m\u001b[34m(self, x_new)\u001b[39m\n\u001b[32m    531\u001b[39m y_new = \u001b[38;5;28mself\u001b[39m._call(\u001b[38;5;28mself\u001b[39m, x_new)\n\u001b[32m    532\u001b[39m \u001b[38;5;28;01mif\u001b[39;00m \u001b[38;5;129;01mnot\u001b[39;00m \u001b[38;5;28mself\u001b[39m._extrapolate:\n\u001b[32m--> \u001b[39m\u001b[32m533\u001b[39m     below_bounds, above_bounds = \u001b[38;5;28;43mself\u001b[39;49m\u001b[43m.\u001b[49m\u001b[43m_check_bounds\u001b[49m\u001b[43m(\u001b[49m\u001b[43mx_new\u001b[49m\u001b[43m)\u001b[49m\n\u001b[32m    534\u001b[39m     \u001b[38;5;28;01mif\u001b[39;00m \u001b[38;5;28mlen\u001b[39m(y_new) > \u001b[32m0\u001b[39m:\n\u001b[32m    535\u001b[39m         \u001b[38;5;66;03m# Note fill_value must be broadcast up to the proper size\u001b[39;00m\n\u001b[32m    536\u001b[39m         \u001b[38;5;66;03m# and flattened to work here\u001b[39;00m\n\u001b[32m    537\u001b[39m         y_new[below_bounds] = \u001b[38;5;28mself\u001b[39m._fill_value_below\n",
      "\u001b[36mFile \u001b[39m\u001b[32m~/miniforge3/envs/goesenv/lib/python3.13/site-packages/scipy/interpolate/_interpolate.py:541\u001b[39m, in \u001b[36minterp1d._check_bounds\u001b[39m\u001b[34m(self, x_new)\u001b[39m\n\u001b[32m    538\u001b[39m             y_new[above_bounds] = \u001b[38;5;28mself\u001b[39m._fill_value_above\n\u001b[32m    539\u001b[39m     \u001b[38;5;28;01mreturn\u001b[39;00m y_new\n\u001b[32m--> \u001b[39m\u001b[32m541\u001b[39m \u001b[38;5;28;01mdef\u001b[39;00m\u001b[38;5;250m \u001b[39m\u001b[34m_check_bounds\u001b[39m(\u001b[38;5;28mself\u001b[39m, x_new):\n\u001b[32m    542\u001b[39m \u001b[38;5;250m    \u001b[39m\u001b[33;03m\"\"\"Check the inputs for being in the bounds of the interpolated data.\u001b[39;00m\n\u001b[32m    543\u001b[39m \n\u001b[32m    544\u001b[39m \u001b[33;03m    Parameters\u001b[39;00m\n\u001b[32m   (...)\u001b[39m\u001b[32m    551\u001b[39m \u001b[33;03m        The mask on x_new of values that are out of the bounds.\u001b[39;00m\n\u001b[32m    552\u001b[39m \u001b[33;03m    \"\"\"\u001b[39;00m\n\u001b[32m    554\u001b[39m     \u001b[38;5;66;03m# If self.bounds_error is True, we raise an error if any x_new values\u001b[39;00m\n\u001b[32m    555\u001b[39m     \u001b[38;5;66;03m# fall outside the range of x. Otherwise, we return an array indicating\u001b[39;00m\n\u001b[32m    556\u001b[39m     \u001b[38;5;66;03m# which values are outside the boundary region.\u001b[39;00m\n",
      "\u001b[31mKeyboardInterrupt\u001b[39m: "
     ]
    }
   ],
   "source": [
    "path = '/storage/cdalden/goes/goes16/'\n",
    "date = '20230209'\n",
    "goes_rad_to_rgb(path, date)"
   ]
  },
  {
   "cell_type": "code",
   "execution_count": null,
   "metadata": {},
   "outputs": [],
   "source": []
  }
 ],
 "metadata": {
  "kernelspec": {
   "display_name": "goesenv",
   "language": "python",
   "name": "python3"
  },
  "language_info": {
   "codemirror_mode": {
    "name": "ipython",
    "version": 3
   },
   "file_extension": ".py",
   "mimetype": "text/x-python",
   "name": "python",
   "nbconvert_exporter": "python",
   "pygments_lexer": "ipython3",
   "version": "3.13.2"
  }
 },
 "nbformat": 4,
 "nbformat_minor": 2
}
