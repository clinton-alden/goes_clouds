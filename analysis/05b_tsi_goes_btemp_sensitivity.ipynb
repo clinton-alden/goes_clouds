{
 "cells": [
  {
   "cell_type": "markdown",
   "metadata": {},
   "source": [
    "# Notebook 5b\n",
    "After training several decision tree models for various sites and times of year, we are finding the brightness temperature thresholds to vary across time and space. This pattern appears to be loosely correlated to air temperatures. To further investigate, here we can train models by grouping time steps with similar air temperatures to create thresholds that can be extrapolated to other regions where we have fewer surface observations.\n",
    "\n",
    "This will heavily mirror the methods used in Notebook 5a"
   ]
  },
  {
   "cell_type": "code",
   "execution_count": null,
   "metadata": {},
   "outputs": [],
   "source": []
  },
  {
   "cell_type": "code",
   "execution_count": null,
   "metadata": {},
   "outputs": [],
   "source": []
  },
  {
   "cell_type": "code",
   "execution_count": null,
   "metadata": {},
   "outputs": [],
   "source": []
  }
 ],
 "metadata": {
  "language_info": {
   "name": "python"
  }
 },
 "nbformat": 4,
 "nbformat_minor": 2
}
